{
 "cells": [
  {
   "cell_type": "code",
   "execution_count": 1,
   "metadata": {},
   "outputs": [],
   "source": [
    "import gym\n",
    "import numpy as np"
   ]
  },
  {
   "cell_type": "code",
   "execution_count": 2,
   "metadata": {},
   "outputs": [],
   "source": [
    "env = gym.make('FrozenLake-v0')"
   ]
  },
  {
   "cell_type": "code",
   "execution_count": 179,
   "metadata": {},
   "outputs": [
    {
     "name": "stdout",
     "output_type": "stream",
     "text": [
      "\n",
      "\u001b[41mS\u001b[0mFFF\n",
      "FHFH\n",
      "FFFH\n",
      "HFFG\n"
     ]
    }
   ],
   "source": [
    "env.reset()\n",
    "env.render()"
   ]
  },
  {
   "cell_type": "raw",
   "metadata": {},
   "source": [
    "0 : Left\n",
    "1 : Down\n",
    "2 : Right\n",
    "3 : Up"
   ]
  },
  {
   "cell_type": "code",
   "execution_count": 25,
   "metadata": {},
   "outputs": [],
   "source": [
    "policy = np.random.randint(0,4,env.observation_space.n)\n",
    "#policy = np.ones(env.observation_space.n)\n",
    "alpha = 0.05\n",
    "discount = 0.8"
   ]
  },
  {
   "cell_type": "code",
   "execution_count": 26,
   "metadata": {},
   "outputs": [
    {
     "data": {
      "text/plain": [
       "array([2, 3, 2, 2, 1, 1, 2, 0, 0, 0, 1, 3, 2, 1, 2, 2])"
      ]
     },
     "execution_count": 26,
     "metadata": {},
     "output_type": "execute_result"
    }
   ],
   "source": [
    "policy"
   ]
  },
  {
   "cell_type": "code",
   "execution_count": 27,
   "metadata": {},
   "outputs": [],
   "source": [
    "def iterate_td(env, policy, alpha, discount, iters = 100000):\n",
    "    # initialize value array\n",
    "    value_array = np.zeros(env.observation_space.n)\n",
    "    \n",
    "    # run policy and update V\n",
    "    state = env.reset()\n",
    "    for t in range(iters):\n",
    "        action = policy[state]\n",
    "        next_state, reward, end, _ = env.step(action)\n",
    "        #alpha = 2*(t**eta)\n",
    "        \n",
    "        value_array[state] += alpha * (reward + discount * (value_array[next_state] - value_array[state]))\n",
    "        if end:\n",
    "            state = env.reset()\n",
    "        else:\n",
    "            state = next_state\n",
    "        \n",
    "    return(value_array)"
   ]
  },
  {
   "cell_type": "code",
   "execution_count": 28,
   "metadata": {},
   "outputs": [],
   "source": [
    "td_value = iterate_td(env, policy, alpha = 0.01, discount = .8, iters = 2000000)"
   ]
  },
  {
   "cell_type": "code",
   "execution_count": 29,
   "metadata": {},
   "outputs": [
    {
     "data": {
      "text/plain": [
       "array([[0.02036965, 0.03978704, 0.06319078, 0.        ],\n",
       "       [0.        , 0.        , 0.13564327, 0.        ],\n",
       "       [0.        , 0.12470431, 0.34272144, 0.        ],\n",
       "       [0.        , 0.40633113, 0.79194273, 0.        ]])"
      ]
     },
     "execution_count": 29,
     "metadata": {},
     "output_type": "execute_result"
    }
   ],
   "source": [
    "td_value.reshape(4,4)"
   ]
  },
  {
   "cell_type": "code",
   "execution_count": 207,
   "metadata": {},
   "outputs": [],
   "source": [
    "def iterate_evmc(env, policy, alpha, discount, iters = 100000):\n",
    "    # initialize value array\n",
    "    value_array = np.zeros(env.observation_space.n)\n",
    "    \n",
    "    # run policy and update V\n",
    "    for _ in range(iters):\n",
    "        # Run Episode\n",
    "        state = env.reset()\n",
    "        ep_state = []\n",
    "        ep_reward = []\n",
    "        end = False\n",
    "        while not end:\n",
    "            action = policy[state]\n",
    "            next_state, reward, end, _ = env.step(action)\n",
    "            ep_state.append(state)\n",
    "            ep_reward.append(reward)\n",
    "            state = next_state\n",
    "        # Update Value Fxn\n",
    "        sum_r = 0\n",
    "        for t in range(len(ep_state)):\n",
    "            state = ep_state[-(t+1)]\n",
    "            sum_r += ep_reward[-(t+1)] + discount * sum_r\n",
    "            value_array[state] += alpha * (sum_r - value_array[state])\n",
    "            \n",
    "    return(value_array)"
   ]
  },
  {
   "cell_type": "code",
   "execution_count": 208,
   "metadata": {},
   "outputs": [],
   "source": [
    "ev_value = iterate_evmc(env, policy, alpha = 0.01, discount = .8, iters = 1000000)"
   ]
  },
  {
   "cell_type": "code",
   "execution_count": 204,
   "metadata": {},
   "outputs": [
    {
     "data": {
      "text/plain": [
       "array([[0., 0., 0., 0.],\n",
       "       [0., 0., 0., 0.],\n",
       "       [0., 0., 0., 0.],\n",
       "       [0., 0., 0., 0.]])"
      ]
     },
     "execution_count": 204,
     "metadata": {},
     "output_type": "execute_result"
    }
   ],
   "source": [
    "ev_value.reshape(4,4)"
   ]
  },
  {
   "cell_type": "code",
   "execution_count": null,
   "metadata": {},
   "outputs": [],
   "source": []
  }
 ],
 "metadata": {
  "kernelspec": {
   "display_name": "Python [conda env:rl]",
   "language": "python",
   "name": "conda-env-rl-py"
  },
  "language_info": {
   "codemirror_mode": {
    "name": "ipython",
    "version": 3
   },
   "file_extension": ".py",
   "mimetype": "text/x-python",
   "name": "python",
   "nbconvert_exporter": "python",
   "pygments_lexer": "ipython3",
   "version": "3.6.7"
  }
 },
 "nbformat": 4,
 "nbformat_minor": 2
}
